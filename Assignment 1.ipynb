{
 "cells": [
  {
   "cell_type": "raw",
   "id": "6bf0f004",
   "metadata": {},
   "source": [
    "Q1. In the below elements which of them are values or an expression? eg:- values can be\n",
    "integer or string and expressions will be mathematical operators.\n",
    "\n",
    "* = its an expression\n",
    "'hello' = value\n",
    "-87.8 = value\n",
    "- = expression\n",
    "/ = expression\n",
    "+ = expression\n",
    "6 = value"
   ]
  },
  {
   "cell_type": "raw",
   "id": "6ef6dfd7",
   "metadata": {},
   "source": [
    "Q2. What is the difference between string and variable?\n",
    "\n",
    "A Variable is a store of information, and a String is a type of information you would store in a Variable"
   ]
  },
  {
   "cell_type": "raw",
   "id": "cebba1ca",
   "metadata": {},
   "source": [
    "Q3. Describe three different data types.\n",
    "\n",
    "A data type, in programming, is a classification that specifies which type of value a variable\n",
    "has and what type of mathematical, relational or logical operations can be applied to it without causing an error.\n",
    "String : Alphanumeric character eg. 'hello world', \"xyz123\"\n",
    "Integer : whole number eg. 12,34\n",
    "Float : number with decimal point eg. 23.34 , 21.45\n"
   ]
  },
  {
   "cell_type": "raw",
   "id": "ebd9a2d2",
   "metadata": {},
   "source": [
    "Q4. What is an expression made up of? What do all expressions do?\n",
    "\n",
    "An expression is a construct made up of variables, operators, and method invocations,\n",
    "which are constructed according to the syntax of the language, that evaluates to a single value."
   ]
  },
  {
   "cell_type": "raw",
   "id": "8e800fbd",
   "metadata": {},
   "source": [
    "Q5. This assignment statements, like spam = 10. What is the difference between an\n",
    "expression and a statement?\n",
    "\n",
    "An Expression always evaluates to a value. And, A statement does something,\n",
    "like creating a variable or displaying a value, it only does whatever the statement says"
   ]
  },
  {
   "cell_type": "raw",
   "id": "78623ce8",
   "metadata": {},
   "source": [
    "Q6. After running the following code, what does the variable bacon contain?\n",
    "bacon = 22\n",
    "bacon+1"
   ]
  },
  {
   "cell_type": "code",
   "execution_count": 5,
   "id": "2cf2e46d",
   "metadata": {},
   "outputs": [
    {
     "data": {
      "text/plain": [
       "'spamspamspam'"
      ]
     },
     "execution_count": 5,
     "metadata": {},
     "output_type": "execute_result"
    }
   ],
   "source": [
    "'spam' + 'spamapam'\n"
   ]
  },
  {
   "cell_type": "code",
   "execution_count": 6,
   "id": "22aa0aa6",
   "metadata": {},
   "outputs": [
    {
     "data": {
      "text/plain": [
       "'spamspamspam'"
      ]
     },
     "execution_count": 6,
     "metadata": {},
     "output_type": "execute_result"
    }
   ],
   "source": [
    "'spam'*3"
   ]
  },
  {
   "cell_type": "raw",
   "id": "a800c3d5",
   "metadata": {},
   "source": [
    "Q8. Why is eggs a valid variable name while 100 is invalid?\n",
    "\n",
    "a variable name cannot start with  number"
   ]
  },
  {
   "cell_type": "raw",
   "id": "d87121a6",
   "metadata": {},
   "source": [
    "Q9. What three functions can be used to get the integer, floating-point number, or string\n",
    "version of a value?\n",
    "\n",
    "for integer we use = int()\n",
    "for floating we use = float()\n",
    "for string we use = str()"
   ]
  },
  {
   "cell_type": "raw",
   "id": "23730339",
   "metadata": {},
   "source": [
    "Q10. Why does this expression cause an error? How can you fix it?\n",
    "'i have eaten'+99+'burritos'\n",
    "\n",
    "this  expression will cause TypeError , to resolve it we will put 99 in inverted comas."
   ]
  },
  {
   "cell_type": "code",
   "execution_count": null,
   "id": "5fc12095",
   "metadata": {},
   "outputs": [],
   "source": []
  }
 ],
 "metadata": {
  "kernelspec": {
   "display_name": "Python 3",
   "language": "python",
   "name": "python3"
  },
  "language_info": {
   "codemirror_mode": {
    "name": "ipython",
    "version": 3
   },
   "file_extension": ".py",
   "mimetype": "text/x-python",
   "name": "python",
   "nbconvert_exporter": "python",
   "pygments_lexer": "ipython3",
   "version": "3.8.8"
  }
 },
 "nbformat": 4,
 "nbformat_minor": 5
}
