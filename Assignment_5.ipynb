{
 "cells": [
  {
   "cell_type": "raw",
   "id": "5fd8a035",
   "metadata": {},
   "source": [
    "Q1, What does an empty dictionary code look like.?\n",
    "\n",
    "two curly bracket : {}"
   ]
  },
  {
   "cell_type": "raw",
   "id": "a092993b",
   "metadata": {},
   "source": [
    "Q2. What is the value of a dictionary value with the key'foo' and the value 42?\n",
    "\n",
    "{'foo':39}"
   ]
  },
  {
   "cell_type": "raw",
   "id": "f7459dde",
   "metadata": {},
   "source": [
    "Q3. What is the most significant distinction between a dictionary and a list?\n",
    "\n",
    "The items stored in a dictionary are unordered, while the items in a list are ordered."
   ]
  },
  {
   "cell_type": "raw",
   "id": "8023c1a9",
   "metadata": {},
   "source": [
    "Q4. What happens if you try to access spam['foo'] if spam is {'bar':100}\n",
    "\n",
    "You get a KeyError error."
   ]
  },
  {
   "cell_type": "raw",
   "id": "8b0b25ea",
   "metadata": {},
   "source": [
    "Q5. If a dictionary is stored in spam, what is the difference between the expressions'cat' in spam and 'cat' in spam.keys().?\n",
    "\n",
    "There is no difference. The in operator checks whether a value exists as a key in the dictionary."
   ]
  },
  {
   "cell_type": "raw",
   "id": "ab2c98f1",
   "metadata": {},
   "source": [
    "Q6. If a dictionary is stored in spam, what is the difference between the expressions 'cat' in spam and 'cat' in spam.values().?\n",
    "\n",
    "'cat' in spam checks whether there is a 'cat' key in the dictionary, while 'cat' in spam.values() checks whether there is a value 'cat' for one of the keys in spam."
   ]
  },
  {
   "cell_type": "raw",
   "id": "71165352",
   "metadata": {},
   "source": [
    "Q7. What is a shortcut for the following code?\n",
    "if 'color' is not in spam.\n",
    "spam['color'] = 'black'\n",
    "\n",
    "spam.setdefault('color', 'black')"
   ]
  },
  {
   "cell_type": "raw",
   "id": "32a99477",
   "metadata": {},
   "source": [
    "Q8. How do you \"pretty print\" dictonary values using which module and function.?\n",
    "pprint.pprint()"
   ]
  },
  {
   "cell_type": "code",
   "execution_count": null,
   "id": "82eeed25",
   "metadata": {},
   "outputs": [],
   "source": []
  }
 ],
 "metadata": {
  "kernelspec": {
   "display_name": "Python 3",
   "language": "python",
   "name": "python3"
  },
  "language_info": {
   "codemirror_mode": {
    "name": "ipython",
    "version": 3
   },
   "file_extension": ".py",
   "mimetype": "text/x-python",
   "name": "python",
   "nbconvert_exporter": "python",
   "pygments_lexer": "ipython3",
   "version": "3.8.8"
  }
 },
 "nbformat": 4,
 "nbformat_minor": 5
}
